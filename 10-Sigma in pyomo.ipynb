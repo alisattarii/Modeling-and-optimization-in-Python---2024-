{
 "cells": [
  {
   "cell_type": "markdown",
   "metadata": {},
   "source": [
    "\n",
    "<div dir=rtl>\n",
    " مثال هایی برای نحوه نمایش سیگما و انجام عملیات های مربوط به آن   </div>"
   ]
  },
  {
   "cell_type": "code",
   "execution_count": 1,
   "metadata": {},
   "outputs": [],
   "source": [
    "import itertools\n",
    "import numpy as np\n",
    "import pyomo.environ as pyo\n",
    "m1 = pyo.ConcreteModel()"
   ]
  },
  {
   "cell_type": "code",
   "execution_count": 2,
   "metadata": {},
   "outputs": [],
   "source": [
    "m1.gas = pyo.Set(initialize=('gas1','gas2','gas3'))\n",
    "m1.oil = pyo.Set(initialize=('oil1','oil2','oil3'))"
   ]
  },
  {
   "cell_type": "code",
   "execution_count": 3,
   "metadata": {},
   "outputs": [
    {
     "name": "stdout",
     "output_type": "stream",
     "text": [
      "oil : Size=1, Index=None, Ordered=Insertion\n",
      "    Key  : Dimen : Domain : Size : Members\n",
      "    None :     1 :    Any :    3 : {'oil1', 'oil2', 'oil3'}\n"
     ]
    }
   ],
   "source": [
    "m1.oil.pprint()"
   ]
  },
  {
   "cell_type": "markdown",
   "metadata": {},
   "source": [
    "### Parameters"
   ]
  },
  {
   "cell_type": "code",
   "execution_count": 4,
   "metadata": {},
   "outputs": [],
   "source": [
    "# m1.gas_profit     = pyo.Param(m1.gas, initialize = {'gas1':70,    'gas2':60,   'gas3':50}  )\n",
    "# m1.oil_cost       = pyo.Param(m1.oil, initialize = {'oil1':45,    'oil2':35,   'oil3':25}  )\n",
    "# m1.demands        = pyo.Param(m1.gas, initialize = {'gas1':3000,  'gas2':2000, 'gas3':1000})\n",
    "# m1.oilpurchase    = pyo.Param(m1.oil, initialize = {'oil1':5000,  'oil2':5000, 'oil3':5000})\n",
    "# m1.oktan_portion  = pyo.Param(m1.oil, initialize = {'oil1':12,    'oil2':6,    'oil3':8}   )\n",
    "# m1.solfor_portion = pyo.Param(m1.oil, initialize = {'oil1':0.005, 'oil2':0.02, 'oil3':0.03})\n",
    "# m1.oktan_need     = pyo.Param(m1.gas, initialize = {'gas1':10,    'gas2':8,    'gas3':6}   )\n",
    "# m1.solfor_need    = pyo.Param(m1.gas, initialize = {'gas1':0.01,  'gas2':0.02, 'gas3':0.01})\n"
   ]
  },
  {
   "cell_type": "markdown",
   "metadata": {},
   "source": [
    "### Variables"
   ]
  },
  {
   "cell_type": "code",
   "execution_count": 5,
   "metadata": {},
   "outputs": [
    {
     "name": "stdout",
     "output_type": "stream",
     "text": [
      "x : Size=9, Index=x_index\n",
      "    Key              : Lower : Value : Upper : Fixed : Stale : Domain\n",
      "    ('oil1', 'gas1') :     0 :  None :  None : False :  True : NonNegativeReals\n",
      "    ('oil1', 'gas2') :     0 :  None :  None : False :  True : NonNegativeReals\n",
      "    ('oil1', 'gas3') :     0 :  None :  None : False :  True : NonNegativeReals\n",
      "    ('oil2', 'gas1') :     0 :  None :  None : False :  True : NonNegativeReals\n",
      "    ('oil2', 'gas2') :     0 :  None :  None : False :  True : NonNegativeReals\n",
      "    ('oil2', 'gas3') :     0 :  None :  None : False :  True : NonNegativeReals\n",
      "    ('oil3', 'gas1') :     0 :  None :  None : False :  True : NonNegativeReals\n",
      "    ('oil3', 'gas2') :     0 :  None :  None : False :  True : NonNegativeReals\n",
      "    ('oil3', 'gas3') :     0 :  None :  None : False :  True : NonNegativeReals\n"
     ]
    }
   ],
   "source": [
    "m1.x = pyo.Var(m1.oil, m1.gas , domain = pyo.NonNegativeReals)\n",
    "m1.x.pprint()"
   ]
  },
  {
   "cell_type": "markdown",
   "metadata": {},
   "source": [
    "### Objective function"
   ]
  },
  {
   "cell_type": "markdown",
   "metadata": {
    "slideshow": {
     "slide_type": "slide"
    }
   },
   "source": [
    "$$\n",
    "Income  = \\sum_{j=1}^3 gp_j \\sum_{i=1}^{3} x_{ij} = \\sum_{j=1}^3 \\sum_{i=1}^{3} gp_j x_{ij} \\\\\n",
    "$$"
   ]
  },
  {
   "cell_type": "code",
   "execution_count": 6,
   "metadata": {},
   "outputs": [
    {
     "name": "stdout",
     "output_type": "stream",
     "text": [
      "70*x[oil1,gas1] + 70*x[oil2,gas1] + 70*x[oil3,gas1] + 60*x[oil1,gas2] + 60*x[oil2,gas2] + 60*x[oil3,gas2] + 50*x[oil1,gas3] + 50*x[oil2,gas3] + 50*x[oil3,gas3]\n"
     ]
    }
   ],
   "source": [
    "m1.gas_profit = pyo.Param(m1.gas , initialize={'gas1':70,'gas2':60,'gas3':50})\n",
    "income = sum(m1.gas_profit[j] * m1.x[i,j] for j in m1.gas for i in m1.oil)\n",
    "print(income)"
   ]
  },
  {
   "cell_type": "markdown",
   "metadata": {},
   "source": [
    "$$\n",
    "Cost_1  = \\sum_{i=1}^{3} oc_i \\sum_{j=1}^{3} x_{ij} = \\sum_{i=1}^{3} \\sum_{j=1}^{3} oc_i x_{ij}\n",
    "$$"
   ]
  },
  {
   "cell_type": "code",
   "execution_count": 7,
   "metadata": {},
   "outputs": [
    {
     "name": "stdout",
     "output_type": "stream",
     "text": [
      "45*x[oil1,gas1] + 45*x[oil1,gas2] + 45*x[oil1,gas3] + 35*x[oil2,gas1] + 35*x[oil2,gas2] + 35*x[oil2,gas3] + 25*x[oil3,gas1] + 25*x[oil3,gas2] + 25*x[oil3,gas3]\n"
     ]
    }
   ],
   "source": [
    "m1.oil_cost = pyo.Param(m1.oil , initialize={'oil1':45,'oil2':35,'oil3':25} )\n",
    "cost_1 = sum (m1.oil_cost[i] * m1.x[i,j] for i in m1.oil for j in m1.gas)\n",
    "print(cost_1)"
   ]
  },
  {
   "cell_type": "markdown",
   "metadata": {},
   "source": [
    "$$\n",
    "Cost_2  = 4 \\sum_{i=1}^{3} \\sum_{j=1}^{3} x_{ij} \n",
    "$$"
   ]
  },
  {
   "cell_type": "code",
   "execution_count": 8,
   "metadata": {},
   "outputs": [
    {
     "name": "stdout",
     "output_type": "stream",
     "text": [
      "4*(x[oil1,gas1] + x[oil1,gas2] + x[oil1,gas3] + x[oil2,gas1] + x[oil2,gas2] + x[oil2,gas3] + x[oil3,gas1] + x[oil3,gas2] + x[oil3,gas3])\n"
     ]
    }
   ],
   "source": [
    "cost_2 = 4 * sum(m1.x[i,j] for i in m1.oil for j in m1.gas)\n",
    "print(cost_2)"
   ]
  },
  {
   "cell_type": "code",
   "execution_count": 9,
   "metadata": {},
   "outputs": [
    {
     "name": "stdout",
     "output_type": "stream",
     "text": [
      "obj : Size=1, Index=None, Active=True\n",
      "    Key  : Active : Sense    : Expression\n",
      "    None :   True : maximize : 70*x[oil1,gas1] + 70*x[oil2,gas1] + 70*x[oil3,gas1] + 60*x[oil1,gas2] + 60*x[oil2,gas2] + 60*x[oil3,gas2] + 50*x[oil1,gas3] + 50*x[oil2,gas3] + 50*x[oil3,gas3] - (45*x[oil1,gas1] + 45*x[oil1,gas2] + 45*x[oil1,gas3] + 35*x[oil2,gas1] + 35*x[oil2,gas2] + 35*x[oil2,gas3] + 25*x[oil3,gas1] + 25*x[oil3,gas2] + 25*x[oil3,gas3]) - 4*(x[oil1,gas1] + x[oil1,gas2] + x[oil1,gas3] + x[oil2,gas1] + x[oil2,gas2] + x[oil2,gas3] + x[oil3,gas1] + x[oil3,gas2] + x[oil3,gas3])\n"
     ]
    }
   ],
   "source": [
    "m1.obj = pyo.Objective(expr = income - cost_1 - cost_2,\n",
    "                       sense = pyo.maximize)\n",
    "m1.obj.pprint()"
   ]
  },
  {
   "cell_type": "markdown",
   "metadata": {},
   "source": [
    "### Constraints"
   ]
  },
  {
   "cell_type": "markdown",
   "metadata": {},
   "source": [
    "$$\n",
    "\\sum_{i=1}^{3} x_{ij} = d_j \\quad \\quad \\forall j=1,...,3\n",
    "$$"
   ]
  },
  {
   "cell_type": "code",
   "execution_count": 10,
   "metadata": {},
   "outputs": [
    {
     "name": "stdout",
     "output_type": "stream",
     "text": [
      "c1 : Size=3, Index=gas, Active=True\n",
      "    Key  : Lower  : Body                                       : Upper  : Active\n",
      "    gas1 : 3000.0 : x[oil1,gas1] + x[oil2,gas1] + x[oil3,gas1] : 3000.0 :   True\n",
      "    gas2 : 2000.0 : x[oil1,gas2] + x[oil2,gas2] + x[oil3,gas2] : 2000.0 :   True\n",
      "    gas3 : 1000.0 : x[oil1,gas3] + x[oil2,gas3] + x[oil3,gas3] : 1000.0 :   True\n"
     ]
    }
   ],
   "source": [
    "m1.demands = pyo.Param(m1.gas , initialize={'gas1':3000,'gas2':2000,'gas3':1000})\n",
    "def gas_demand (model, j):\n",
    "    return sum(model.x[i,j] for i in model.oil) == model.demands[j]\n",
    "m1.c1 = pyo.Constraint(m1.gas , rule = gas_demand)\n",
    "m1.c1.pprint()"
   ]
  },
  {
   "cell_type": "code",
   "execution_count": 11,
   "metadata": {},
   "outputs": [],
   "source": [
    "# def gas_demand_test (model, j):\n",
    "#     return sum(model.x[i,j] for i in model.oil) == model.demands[j]\n",
    "# print(gas_demand_test(m1, j='gas3'))"
   ]
  },
  {
   "cell_type": "markdown",
   "metadata": {},
   "source": [
    "$$\n",
    "\\sum_{j=1}^{3} x_{ij} \\leq p_i \\quad \\quad \\forall i=1,...,3\n",
    "$$"
   ]
  },
  {
   "cell_type": "code",
   "execution_count": 12,
   "metadata": {},
   "outputs": [
    {
     "name": "stdout",
     "output_type": "stream",
     "text": [
      "c2 : Size=3, Index=oil, Active=True\n",
      "    Key  : Lower : Body                                       : Upper  : Active\n",
      "    oil1 :  -Inf : x[oil1,gas1] + x[oil1,gas2] + x[oil1,gas3] : 5000.0 :   True\n",
      "    oil2 :  -Inf : x[oil2,gas1] + x[oil2,gas2] + x[oil2,gas3] : 5000.0 :   True\n",
      "    oil3 :  -Inf : x[oil3,gas1] + x[oil3,gas2] + x[oil3,gas3] : 5000.0 :   True\n"
     ]
    }
   ],
   "source": [
    "m1.oil_purchase = pyo.Param(m1.oil , initialize = {'oil1':5000, 'oil2':5000 , 'oil3':5000})\n",
    "\n",
    "def oil_purchase(model, i):\n",
    "    return sum(model.x[i,j] for j in model.gas) <= model.oil_purchase[i]\n",
    "m1.c2 = pyo.Constraint(m1.oil , rule = oil_purchase)\n",
    "m1.c2.pprint()"
   ]
  },
  {
   "cell_type": "markdown",
   "metadata": {},
   "source": [
    "$$\n",
    "\\sum_{i=1}^{3} \\sum_{j=1}^{3} x_{ij} \\leq 14000 \n",
    "$$"
   ]
  },
  {
   "cell_type": "code",
   "execution_count": 13,
   "metadata": {},
   "outputs": [
    {
     "name": "stdout",
     "output_type": "stream",
     "text": [
      "c3 : Size=1, Index=None, Active=True\n",
      "    Key  : Lower : Body                                                                                                                                 : Upper   : Active\n",
      "    None :  -Inf : x[oil1,gas1] + x[oil1,gas2] + x[oil1,gas3] + x[oil2,gas1] + x[oil2,gas2] + x[oil2,gas3] + x[oil3,gas1] + x[oil3,gas2] + x[oil3,gas3] : 14000.0 :   True\n"
     ]
    }
   ],
   "source": [
    "m1.c3 = pyo.Constraint(expr = sum(m1.x[i,j] for i in m1.oil for j in m1.gas)<=14000)\n",
    "m1.c3.pprint()"
   ]
  },
  {
   "cell_type": "markdown",
   "metadata": {},
   "source": [
    "$$\n",
    "\\sum_{i=1}^{3} op_{i} x_{ij} \\geq \\ on_{j} \\sum_{i=1}^{3} x_{ij} \\quad \\forall j\n",
    "$$"
   ]
  },
  {
   "cell_type": "code",
   "execution_count": 14,
   "metadata": {},
   "outputs": [
    {
     "name": "stdout",
     "output_type": "stream",
     "text": [
      "c4 : Size=3, Index=gas, Active=True\n",
      "    Key  : Lower : Body                                                                                                  : Upper : Active\n",
      "    gas1 :  -Inf : 10*(x[oil1,gas1] + x[oil2,gas1] + x[oil3,gas1]) - (12*x[oil1,gas1] + 6*x[oil2,gas1] + 8*x[oil3,gas1]) :   0.0 :   True\n",
      "    gas2 :  -Inf :  8*(x[oil1,gas2] + x[oil2,gas2] + x[oil3,gas2]) - (12*x[oil1,gas2] + 6*x[oil2,gas2] + 8*x[oil3,gas2]) :   0.0 :   True\n",
      "    gas3 :  -Inf :  6*(x[oil1,gas3] + x[oil2,gas3] + x[oil3,gas3]) - (12*x[oil1,gas3] + 6*x[oil2,gas3] + 8*x[oil3,gas3]) :   0.0 :   True\n"
     ]
    }
   ],
   "source": [
    "m1.oktan_portion = pyo.Param(m1.oil , initialize ={'oil1':12,'oil2':6,'oil3':8})\n",
    "m1.oktan_need = pyo.Param(m1.gas ,initialize ={'gas1':10,'gas2':8,'gas3':6} )\n",
    "\n",
    "def oktan_constraint(model, j):\n",
    "    return ( sum(model.oktan_portion[i] * model.x[i,j] for i in model.oil) >=\n",
    "            model.oktan_need[j] * sum(model.x[i,j] for i in model.oil))\n",
    "m1.c4 = pyo.Constraint(m1.gas , rule= oktan_constraint)\n",
    "m1.c4.pprint()"
   ]
  },
  {
   "cell_type": "markdown",
   "metadata": {},
   "source": [
    "$$\n",
    "\\sum_{i=1}^{3} sp_{i} x_{ij} \\leq \\ sn_{j} \\sum_{i=1}^{3} x_{ij} \\quad \\forall j\n",
    "$$"
   ]
  },
  {
   "cell_type": "code",
   "execution_count": 15,
   "metadata": {},
   "outputs": [
    {
     "name": "stdout",
     "output_type": "stream",
     "text": [
      "c5 : Size=3, Index=gas, Active=True\n",
      "    Key  : Lower : Body                                                                                                           : Upper : Active\n",
      "    gas1 :  -Inf : 0.005*x[oil1,gas1] + 0.02*x[oil2,gas1] + 0.03*x[oil3,gas1] - 0.01*(x[oil1,gas1] + x[oil2,gas1] + x[oil3,gas1]) :   0.0 :   True\n",
      "    gas2 :  -Inf : 0.005*x[oil1,gas2] + 0.02*x[oil2,gas2] + 0.03*x[oil3,gas2] - 0.02*(x[oil1,gas2] + x[oil2,gas2] + x[oil3,gas2]) :   0.0 :   True\n",
      "    gas3 :  -Inf : 0.005*x[oil1,gas3] + 0.02*x[oil2,gas3] + 0.03*x[oil3,gas3] - 0.01*(x[oil1,gas3] + x[oil2,gas3] + x[oil3,gas3]) :   0.0 :   True\n"
     ]
    }
   ],
   "source": [
    "m1.solfor_portion = pyo.Param(m1.oil ,initialize ={'oil1':0.005,'oil2':0.02,'oil3':0.03})\n",
    "m1.solfor_need    = pyo.Param(m1.gas ,initialize ={'gas1':0.01,'gas2':0.02,'gas3':0.01} )\n",
    "\n",
    "def solfor_constraint(model, j):\n",
    "    return ( sum(model.solfor_portion[i] * model.x[i,j] for i in model.oil) <=\n",
    "            model.solfor_need[j] * sum(model.x[i,j] for i in model.oil))\n",
    "m1.c5 = pyo.Constraint(m1.gas , rule= solfor_constraint)\n",
    "m1.c5.pprint()"
   ]
  },
  {
   "cell_type": "code",
   "execution_count": 18,
   "metadata": {},
   "outputs": [],
   "source": [
    "# ! pip install highspy\n",
    "solver_name = 'cplex'\n",
    "solver = pyo.SolverFactory(solver_name)\n",
    "result = solver.solve(m1)"
   ]
  },
  {
   "cell_type": "code",
   "execution_count": 19,
   "metadata": {},
   "outputs": [
    {
     "name": "stdout",
     "output_type": "stream",
     "text": [
      "optimal\n"
     ]
    }
   ],
   "source": [
    "print(result.solver.Termination_condition)"
   ]
  },
  {
   "cell_type": "code",
   "execution_count": 20,
   "metadata": {},
   "outputs": [
    {
     "name": "stdout",
     "output_type": "stream",
     "text": [
      "the optimal objective function = 126000.0\n"
     ]
    }
   ],
   "source": [
    "print(f'the optimal objective function = {pyo.value(m1.obj)}')"
   ]
  },
  {
   "cell_type": "code",
   "execution_count": 21,
   "metadata": {},
   "outputs": [
    {
     "name": "stdout",
     "output_type": "stream",
     "text": [
      "Value of x('oil1', 'gas1') = 2400.0\n",
      "Value of x('oil1', 'gas2') = 800.0\n",
      "Value of x('oil1', 'gas3') = 800.0\n",
      "Value of x('oil2', 'gas1') = 0.0\n",
      "Value of x('oil2', 'gas2') = 0.0\n",
      "Value of x('oil2', 'gas3') = 0.0\n",
      "Value of x('oil3', 'gas1') = 600.0\n",
      "Value of x('oil3', 'gas2') = 1200.0\n",
      "Value of x('oil3', 'gas3') = 200.0\n"
     ]
    }
   ],
   "source": [
    "for i , j  in itertools.product(m1.oil,m1.gas):\n",
    "    print(f'Value of x{i,j} = {np.round(pyo.value(m1.x[i,j]))}')"
   ]
  },
  {
   "cell_type": "code",
   "execution_count": 22,
   "metadata": {},
   "outputs": [
    {
     "name": "stdout",
     "output_type": "stream",
     "text": [
      "Value of gas1 = 3000.0\n",
      "------------------------------\n",
      "Value of gas2 = 2000.0\n",
      "------------------------------\n",
      "Value of gas3 = 1000.0\n",
      "------------------------------\n"
     ]
    }
   ],
   "source": [
    "for j in m1.gas:\n",
    "    val = np.round(sum(pyo.value(m1.x[i,j]) for i in m1.oil))\n",
    "    print(f'Value of {j} = {val}')\n",
    "    print('-'*30)\n"
   ]
  }
 ],
 "metadata": {
  "kernelspec": {
   "display_name": "Python 3",
   "language": "python",
   "name": "python3"
  },
  "language_info": {
   "codemirror_mode": {
    "name": "ipython",
    "version": 3
   },
   "file_extension": ".py",
   "mimetype": "text/x-python",
   "name": "python",
   "nbconvert_exporter": "python",
   "pygments_lexer": "ipython3",
   "version": "3.11.5"
  },
  "orig_nbformat": 4
 },
 "nbformat": 4,
 "nbformat_minor": 2
}
