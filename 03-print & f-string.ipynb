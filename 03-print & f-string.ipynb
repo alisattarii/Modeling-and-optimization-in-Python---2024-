{
 "cells": [
  {
   "cell_type": "markdown",
   "metadata": {},
   "source": [
    "<h2 dir=rtl>\n",
    "قالب‌بندی رشته    \n",
    "</h2>"
   ]
  },
  {
   "cell_type": "markdown",
   "metadata": {},
   "source": [
    "<div dir=rtl>\n",
    "گاهی اوقات ما نیازمند کنترل بیشتری بر روی نمایش رشته هستیم. برای این کار قبل از شروع رشته از نشانه\n",
    "    <code>f</code>\n",
    "استفاده می‌کنیم. در داخل رشته هر آن‌چه که بین\n",
    "    <code>{</code>\n",
    "    و\n",
    "    <code>}</code>\n",
    "    قرار بگیرد، به عنوان متغیر محسوب می‌شود.\n",
    "</div>"
   ]
  },
  {
   "cell_type": "code",
   "execution_count": 1,
   "metadata": {},
   "outputs": [
    {
     "name": "stdout",
     "output_type": "stream",
     "text": [
      "I'm Ali Sattari\n"
     ]
    }
   ],
   "source": [
    "print(\"I'm Ali Sattari\")"
   ]
  },
  {
   "cell_type": "code",
   "execution_count": 2,
   "metadata": {},
   "outputs": [
    {
     "name": "stdout",
     "output_type": "stream",
     "text": [
      "industrial \tengineering\n"
     ]
    }
   ],
   "source": [
    "# \\t --> Tab\n",
    "print(\"industrial \\tengineering\")"
   ]
  },
  {
   "cell_type": "code",
   "execution_count": 3,
   "metadata": {},
   "outputs": [
    {
     "name": "stdout",
     "output_type": "stream",
     "text": [
      "industrial \n",
      "engineering\n"
     ]
    }
   ],
   "source": [
    "#\\n --> Next line\n",
    "print(\"industrial \\nengineering\")"
   ]
  },
  {
   "cell_type": "code",
   "execution_count": 4,
   "metadata": {},
   "outputs": [
    {
     "name": "stdout",
     "output_type": "stream",
     "text": [
      "The current value of x is {x}\n"
     ]
    }
   ],
   "source": [
    "x = 5\n",
    "print('The current value of x is {x}')"
   ]
  },
  {
   "cell_type": "code",
   "execution_count": 5,
   "metadata": {},
   "outputs": [
    {
     "name": "stdout",
     "output_type": "stream",
     "text": [
      "The current value of x is 157\n"
     ]
    }
   ],
   "source": [
    "x = 157\n",
    "print(f'The current value of x is {x}')"
   ]
  },
  {
   "cell_type": "code",
   "execution_count": 6,
   "metadata": {},
   "outputs": [
    {
     "name": "stdout",
     "output_type": "stream",
     "text": [
      "Ali Sattari is teaching Otimizatipn in Python course\n"
     ]
    }
   ],
   "source": [
    "name = 'Ali Sattari'\n",
    "course = 'Otimizatipn in Python'\n",
    "print(f\"{name} is teaching {course} course\")"
   ]
  },
  {
   "cell_type": "code",
   "execution_count": 7,
   "metadata": {},
   "outputs": [
    {
     "name": "stdout",
     "output_type": "stream",
     "text": [
      "Ali Sattari is teaching Otimizatipn in Python course\n"
     ]
    }
   ],
   "source": [
    "name = 'Ali Sattari'\n",
    "course = 'Otimizatipn in Python'\n",
    "print(name + ' is teaching '+ course + ' course')"
   ]
  },
  {
   "cell_type": "code",
   "execution_count": 8,
   "metadata": {},
   "outputs": [
    {
     "name": "stdout",
     "output_type": "stream",
     "text": [
      "GPA scores above 17 are called A grade\n"
     ]
    }
   ],
   "source": [
    "grade = 'A'\n",
    "mark = 17\n",
    "\n",
    "print (f'GPA scores above {mark} are called {grade} grade')"
   ]
  },
  {
   "cell_type": "code",
   "execution_count": 9,
   "metadata": {},
   "outputs": [
    {
     "name": "stdout",
     "output_type": "stream",
     "text": [
      "6\n",
      "8\n"
     ]
    }
   ],
   "source": [
    "a , b = 6 , 8\n",
    "print(a)\n",
    "print(b)"
   ]
  },
  {
   "cell_type": "code",
   "execution_count": 10,
   "metadata": {},
   "outputs": [
    {
     "name": "stdout",
     "output_type": "stream",
     "text": [
      "6 8\n"
     ]
    }
   ],
   "source": [
    "a , b = 6 , 8\n",
    "print(a,b)"
   ]
  },
  {
   "cell_type": "code",
   "execution_count": 11,
   "metadata": {},
   "outputs": [
    {
     "name": "stdout",
     "output_type": "stream",
     "text": [
      "68\n"
     ]
    }
   ],
   "source": [
    "a , b = 6 , 8\n",
    "print(a,b, sep='')"
   ]
  },
  {
   "cell_type": "code",
   "execution_count": 12,
   "metadata": {},
   "outputs": [
    {
     "name": "stdout",
     "output_type": "stream",
     "text": [
      "6\n",
      "8\n",
      "6 * 8\n",
      "6 --> 8\n"
     ]
    }
   ],
   "source": [
    "a , b = 6 , 8\n",
    "\n",
    "\n",
    "print(a, b, sep = '\\n')\n",
    "\n",
    "print(a, b, sep=' * ')\n",
    "\n",
    "print(a, b, sep=' --> ')\n"
   ]
  },
  {
   "cell_type": "code",
   "execution_count": null,
   "metadata": {},
   "outputs": [],
   "source": []
  }
 ],
 "metadata": {
  "kernelspec": {
   "display_name": "Python 3",
   "language": "python",
   "name": "python3"
  },
  "language_info": {
   "codemirror_mode": {
    "name": "ipython",
    "version": 3
   },
   "file_extension": ".py",
   "mimetype": "text/x-python",
   "name": "python",
   "nbconvert_exporter": "python",
   "pygments_lexer": "ipython3",
   "version": "3.12.5"
  }
 },
 "nbformat": 4,
 "nbformat_minor": 4
}
