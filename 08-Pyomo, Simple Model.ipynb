{
 "cells": [
  {
   "cell_type": "markdown",
   "metadata": {},
   "source": [
    "# Simple Model - Pyomo \n"
   ]
  },
  {
   "cell_type": "markdown",
   "metadata": {},
   "source": [
    "<img src=\"or1.JPG\" alt=\"drawing\" width=\"1000\"/>"
   ]
  },
  {
   "cell_type": "markdown",
   "metadata": {},
   "source": [
    "<img src='book-ex2.png' height=\"200px\" width=\"250px\" style = \"float:left\"/>"
   ]
  },
  {
   "cell_type": "markdown",
   "metadata": {},
   "source": [
    "## First Approach"
   ]
  },
  {
   "cell_type": "code",
   "execution_count": 1,
   "metadata": {},
   "outputs": [],
   "source": [
    "# from pyomo.environ import * \n",
    "import pyomo.environ as pyo\n",
    "m1 = pyo.ConcreteModel()"
   ]
  },
  {
   "cell_type": "code",
   "execution_count": 2,
   "metadata": {},
   "outputs": [],
   "source": [
    "m1.x1 = pyo.Var( domain = pyo.NonNegativeReals)\n",
    "m1.x2 = pyo.Var( within = pyo.NonNegativeReals) # within alias for domain\n",
    "m1.x3 = pyo.Var( within = pyo.NonNegativeReals)\n",
    "\n",
    "# m1.x1.pprint()\n",
    "# m1.x2.pprint()\n",
    "# m1.x3.pprint()"
   ]
  },
  {
   "cell_type": "code",
   "execution_count": 3,
   "metadata": {},
   "outputs": [],
   "source": [
    "m1.c1 = pyo.Constraint(expr = m1.x1 + 2*m1.x2 + m1.x3 <= 430)\n",
    "# m1.c1.pprint()"
   ]
  },
  {
   "cell_type": "code",
   "execution_count": 4,
   "metadata": {},
   "outputs": [],
   "source": [
    "m1.c2 = pyo.Constraint(expr = 3*m1.x1 + 2*m1.x3 <= 460)\n",
    "# m1.c2.pprint()"
   ]
  },
  {
   "cell_type": "code",
   "execution_count": 5,
   "metadata": {},
   "outputs": [],
   "source": [
    "m1.c3 = pyo.Constraint(expr = m1.x1 + 4*m1.x2 <= 420)\n",
    "# m1.c3.pprint()"
   ]
  },
  {
   "cell_type": "code",
   "execution_count": 6,
   "metadata": {},
   "outputs": [],
   "source": [
    "m1.obj = pyo.Objective(expr = 3*m1.x1 + 2*m1.x2 + 5*m1.x3 , \n",
    "                       sense=pyo.maximize)\n",
    "# m1.obj.pprint()"
   ]
  },
  {
   "cell_type": "code",
   "execution_count": 10,
   "metadata": {},
   "outputs": [
    {
     "name": "stdout",
     "output_type": "stream",
     "text": [
      "\n",
      "Problem: \n",
      "- Name: unknown\n",
      "  Lower bound: 1350.0\n",
      "  Upper bound: 1350.0\n",
      "  Number of objectives: 1\n",
      "  Number of constraints: 3\n",
      "  Number of variables: 3\n",
      "  Number of binary variables: 0\n",
      "  Number of integer variables: 0\n",
      "  Number of continuous variables: 3\n",
      "  Number of nonzeros: 7\n",
      "  Sense: -1\n",
      "  Number of solutions: 1\n",
      "Solver: \n",
      "- Name: Gurobi 10.03\n",
      "  Status: ok\n",
      "  Wallclock time: 0.006000041961669922\n",
      "  Termination condition: optimal\n",
      "  Termination message: Model was solved to optimality (subject to tolerances), and an optimal solution is available.\n",
      "Solution: \n",
      "- number of solutions: 0\n",
      "  number of solutions displayed: 0\n",
      "\n"
     ]
    }
   ],
   "source": [
    "solver_name = 'gurobi'\n",
    "solver = pyo.SolverFactory(solver_name, solver_io=\"python\")\n",
    "result = solver.solve(m1)\n",
    "print(result)"
   ]
  },
  {
   "cell_type": "code",
   "execution_count": 7,
   "metadata": {},
   "outputs": [
    {
     "name": "stdout",
     "output_type": "stream",
     "text": [
      "\n",
      "Problem: \n",
      "- Name: tmpemmvb838\n",
      "  Lower bound: 1350.0\n",
      "  Upper bound: 1350.0\n",
      "  Number of objectives: 1\n",
      "  Number of constraints: 3\n",
      "  Number of variables: 3\n",
      "  Number of nonzeros: 7\n",
      "  Sense: maximize\n",
      "Solver: \n",
      "- Status: ok\n",
      "  User time: 0.0\n",
      "  Termination condition: optimal\n",
      "  Termination message: Dual simplex - Optimal\\x3a Objective = 1.3500000000e+03\n",
      "  Error rc: 0\n",
      "  Time: 0.0692300796508789\n",
      "Solution: \n",
      "- number of solutions: 0\n",
      "  number of solutions displayed: 0\n",
      "\n"
     ]
    }
   ],
   "source": [
    "solver_name = 'cplex'\n",
    "solver = pyo.SolverFactory(solver_name)\n",
    "result = solver.solve(m1)\n",
    "print(result)"
   ]
  },
  {
   "cell_type": "code",
   "execution_count": null,
   "metadata": {},
   "outputs": [],
   "source": [
    "print(result.solver.Termination_condition)"
   ]
  },
  {
   "cell_type": "code",
   "execution_count": null,
   "metadata": {},
   "outputs": [],
   "source": [
    "print(f'the value of x1 = {pyo.value(m1.x1)}')\n",
    "print(f'the value of x2 = {pyo.value(m1.x2)}')\n",
    "print(f'the value of x3 = {pyo.value(m1.x3)}')\n",
    "print('-'*30)\n",
    "print(f'the value of objective function = {pyo.value(m1.obj)}')"
   ]
  },
  {
   "cell_type": "markdown",
   "metadata": {},
   "source": [
    "## Second Approach"
   ]
  },
  {
   "cell_type": "code",
   "execution_count": null,
   "metadata": {},
   "outputs": [],
   "source": [
    "import pyomo.environ as pyo\n",
    "m2 = pyo.ConcreteModel()"
   ]
  },
  {
   "cell_type": "code",
   "execution_count": null,
   "metadata": {},
   "outputs": [],
   "source": [
    "m2.x = pyo.Var( [1,2,3], domain = pyo.NonNegativeReals)\n",
    "m2.x.pprint()"
   ]
  },
  {
   "cell_type": "code",
   "execution_count": null,
   "metadata": {},
   "outputs": [],
   "source": [
    "m2.c1 = pyo.Constraint(expr =     m2.x[1] + 2 * m2.x[2] +     m2.x[3] <= 430)\n",
    "m2.c2 = pyo.Constraint(expr = 3 * m2.x[1]               + 2 * m2.x[3] <= 460)\n",
    "m2.c3 = pyo.Constraint(expr =     m2.x[1] + 4 * m2.x[2]               <= 420)"
   ]
  },
  {
   "cell_type": "code",
   "execution_count": null,
   "metadata": {},
   "outputs": [],
   "source": [
    "m2.obj = pyo.Objective(expr = 3 * m2.x[1] + 2 * m2.x[2] + 5 * m2.x[3] , \n",
    "                       sense=pyo.maximize)"
   ]
  },
  {
   "cell_type": "code",
   "execution_count": null,
   "metadata": {},
   "outputs": [],
   "source": [
    "solver_name = 'cplex'\n",
    "solver = pyo.SolverFactory(solver_name)\n",
    "result = solver.solve(m2)\n",
    "print(result.solver.Termination_condition)"
   ]
  },
  {
   "cell_type": "code",
   "execution_count": null,
   "metadata": {},
   "outputs": [],
   "source": [
    "for i in range(1,len(m2.x) + 1):\n",
    "    print(f'the value of x{i} is {pyo.value(m2.x[i])}')\n",
    "print('-'*30)\n",
    "print(f'the optimal objective function is {pyo.value(m2.obj)}')"
   ]
  },
  {
   "cell_type": "markdown",
   "metadata": {},
   "source": [
    "## Third Approach"
   ]
  },
  {
   "cell_type": "code",
   "execution_count": null,
   "metadata": {},
   "outputs": [],
   "source": [
    "import pyomo.environ as pyo\n",
    "m3 = pyo.ConcreteModel()"
   ]
  },
  {
   "cell_type": "code",
   "execution_count": null,
   "metadata": {},
   "outputs": [],
   "source": [
    "mahsoolat_list = ['mahsool1','mahsool2','mahsool3']\n",
    "m3.x = pyo.Var( mahsoolat_list, domain = pyo.NonNegativeReals)\n",
    "m3.x.pprint()"
   ]
  },
  {
   "cell_type": "code",
   "execution_count": null,
   "metadata": {},
   "outputs": [],
   "source": [
    "m3.c1 = pyo.Constraint(expr =   m3.x['mahsool1'] + 2*m3.x['mahsool2'] + m3.x['mahsool3'] <= 430)\n",
    "m3.c2 = pyo.Constraint(expr = 3*m3.x['mahsool1'] + 2*m3.x['mahsool3'] <= 460)\n",
    "m3.c3 = pyo.Constraint(expr =   m3.x['mahsool1'] + 4*m3.x['mahsool2'] <= 420)\n",
    "m3.c1.pprint()"
   ]
  },
  {
   "cell_type": "code",
   "execution_count": null,
   "metadata": {},
   "outputs": [],
   "source": [
    "m3.obj = pyo.Objective(expr =3*m3.x['mahsool1'] + 2*m3.x['mahsool2'] +5*m3.x['mahsool3'] , \n",
    "                       sense=pyo.maximize)\n",
    "m3.obj.pprint()"
   ]
  },
  {
   "cell_type": "code",
   "execution_count": null,
   "metadata": {},
   "outputs": [],
   "source": [
    "solver_name = 'cplex'\n",
    "solver = pyo.SolverFactory(solver_name)\n",
    "result = solver.solve(m3)\n",
    "print(result.solver.Termination_condition)"
   ]
  },
  {
   "cell_type": "code",
   "execution_count": null,
   "metadata": {},
   "outputs": [],
   "source": [
    "for mahsool in mahsoolat_list:\n",
    "    print(f'The Value of {mahsool} is {pyo.value(m3.x[mahsool])}')"
   ]
  }
 ],
 "metadata": {
  "kernelspec": {
   "display_name": "Python 3",
   "language": "python",
   "name": "python3"
  },
  "language_info": {
   "codemirror_mode": {
    "name": "ipython",
    "version": 3
   },
   "file_extension": ".py",
   "mimetype": "text/x-python",
   "name": "python",
   "nbconvert_exporter": "python",
   "pygments_lexer": "ipython3",
   "version": "3.11.5"
  },
  "orig_nbformat": 4
 },
 "nbformat": 4,
 "nbformat_minor": 2
}
