{
 "cells": [
  {
   "cell_type": "markdown",
   "metadata": {},
   "source": [
    "<div dir=rtl>\n",
    "در این بخش مروری بر ویژگی‌های \n",
    "زبان\n",
    "<i>markdown</i>\n",
    "می‌کنیم.\n",
    "ابتدا با شش نوع عنوان آشنا می‌شویم. سپس بررسی می‌کنیم که چگونه می‌توان بخشی از متن را \n",
    "<i>ایتالیک</i>\n",
    "یا\n",
    "<b>بولد</b>\n",
    "کرد.\n",
    "بعد از آن کار با لیست‌های ترتیبی و غیرترتیبی را نشان می‌دهیم.\n",
    "در انتها رسم جدول را واکاوی می‌کنیم.\n",
    "</div>"
   ]
  },
  {
   "cell_type": "markdown",
   "metadata": {},
   "source": [
    "<h2 dir=rtl>\n",
    "    عنوان\n",
    "</h2>"
   ]
  },
  {
   "cell_type": "markdown",
   "metadata": {},
   "source": [
    "<div dir=rtl>\n",
    "برای نمایش تیتر از نشانه\n",
    "#\n",
    "قبل از کلمات عنوان استفاده می‌کنیم.\n",
    "تعداد نشانه‌های یادشده حداکثر شش تا خواهد بود.\n",
    "به طوری که هر چه تعداد نشانه‌ها بیشتر شود، اندازه عنوان کوچکتر خواهد شد.\n",
    "</div>"
   ]
  },
  {
   "cell_type": "markdown",
   "metadata": {},
   "source": [
    "```markdown\n",
    "# Header1\n",
    "## Header2\n",
    "### Header3\n",
    "#### Header4\n",
    "##### Header5\n",
    "###### Header6\n",
    "```"
   ]
  },
  {
   "cell_type": "markdown",
   "metadata": {},
   "source": [
    "# Header1\n",
    "## Header2\n",
    "### Header3\n",
    "#### Header4\n",
    "##### Header5\n",
    "###### Header6"
   ]
  },
  {
   "cell_type": "markdown",
   "metadata": {},
   "source": [
    "<h2 dir=rtl>\n",
    "قالب کلمات\n",
    "</h2>"
   ]
  },
  {
   "cell_type": "markdown",
   "metadata": {},
   "source": [
    "<div dir=rtl>\n",
    "    کلمات می‌توانند ایتالیک یا بولد شوند. برای ایتالیک کردن بخشی از متن، قبل و بعد از آن نشانه * همانند زیر می‌گذاریم.\n",
    "</div>"
   ]
  },
  {
   "cell_type": "markdown",
   "metadata": {},
   "source": [
    "```markdown\n",
    "*italic word*\n",
    "```"
   ]
  },
  {
   "cell_type": "markdown",
   "metadata": {},
   "source": [
    "*italic*"
   ]
  },
  {
   "cell_type": "markdown",
   "metadata": {},
   "source": [
    "<div dir=rtl>\n",
    "برای بلد کردن بخشی از متن، قبل و بعد از آن \n",
    "    دو نشانه ستاره یعنی\n",
    "    **\n",
    "   می‌گذاریم.\n",
    "</div>"
   ]
  },
  {
   "cell_type": "markdown",
   "metadata": {},
   "source": [
    "```markdown\n",
    "**bold word**\n",
    "```"
   ]
  },
  {
   "cell_type": "markdown",
   "metadata": {},
   "source": [
    "**bold**"
   ]
  },
  {
   "cell_type": "markdown",
   "metadata": {},
   "source": [
    "<h2 dir=rtl>\n",
    "لیست\n",
    "</h2>"
   ]
  },
  {
   "cell_type": "markdown",
   "metadata": {},
   "source": [
    "<div dir=rtl>\n",
    "برای درست کردن لیست ترتیبی از اعداد و برای درست کردن لیست غیرترتیبی از نشانه\n",
    "-\n",
    "استفاده می‌کنیم.\n",
    "</div>"
   ]
  },
  {
   "cell_type": "markdown",
   "metadata": {},
   "source": [
    "```markdown\n",
    "1. item 1\n",
    "2. item 2\n",
    "3. item 3\n",
    "```"
   ]
  },
  {
   "cell_type": "markdown",
   "metadata": {},
   "source": [
    "1. item 1\n",
    "2. item 2\n",
    "3. item 3"
   ]
  },
  {
   "cell_type": "markdown",
   "metadata": {},
   "source": [
    "```markdown\n",
    "- item\n",
    "- item\n",
    "- item\n",
    "```"
   ]
  },
  {
   "cell_type": "markdown",
   "metadata": {},
   "source": [
    "- item\n",
    "- item\n",
    "- item"
   ]
  },
  {
   "cell_type": "markdown",
   "metadata": {},
   "source": [
    "<h2 dir=rtl>\n",
    "    جدول\n",
    "</h2>"
   ]
  },
  {
   "cell_type": "markdown",
   "metadata": {},
   "source": [
    "<div dir=rtl>\n",
    "برای رسم جدول همانند از نشانه | استفاده می‌کنیم. نشانه دو نقطه\n",
    "    :\n",
    "    برای وسط‌چین، راست‌چین، و چپ‌چین به کار می‌رود.\n",
    "</div>"
   ]
  },
  {
   "cell_type": "markdown",
   "metadata": {},
   "source": [
    "```markdown\n",
    "|First Name|Last Name|Job|\n",
    "|---------:|:-------:|:--|\n",
    "|Ali|Sattari|teacher|\n",
    "|James|Brooks|Professor|\n",
    "```"
   ]
  },
  {
   "cell_type": "markdown",
   "metadata": {},
   "source": [
    "|First Name|Last Name|Job|\n",
    "|---------:|:-------:|:--|\n",
    "|Ali|Sattari|teacher|\n",
    "|James|Brooks|Professor|"
   ]
  }
 ],
 "metadata": {
  "kernelspec": {
   "display_name": "Python 3",
   "language": "python",
   "name": "python3"
  },
  "language_info": {
   "codemirror_mode": {
    "name": "ipython",
    "version": 3
   },
   "file_extension": ".py",
   "mimetype": "text/x-python",
   "name": "python",
   "nbconvert_exporter": "python",
   "pygments_lexer": "ipython3",
   "version": "3.7.3"
  }
 },
 "nbformat": 4,
 "nbformat_minor": 4
}
