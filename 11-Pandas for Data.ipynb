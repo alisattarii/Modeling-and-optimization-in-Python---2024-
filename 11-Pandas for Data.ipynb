{
 "cells": [
  {
   "cell_type": "markdown",
   "metadata": {},
   "source": [
    "## یک مثال جهت فراخوانی داده ها از فایل خارجی (همچون اکسل) و وارد کردن در پایتون"
   ]
  },
  {
   "cell_type": "markdown",
   "metadata": {},
   "source": [
    "### *این فایل را اجرا نکنید* این سلول ها صرفا برای درک نحوه انتقال فایل اکسل و وارد کردن به پایتون می باشد"
   ]
  },
  {
   "cell_type": "markdown",
   "metadata": {},
   "source": [
    "#### از قالب و چهارچوب آن الگوبرداری کرده و در کدنویسی خود استفاده کنید"
   ]
  },
  {
   "cell_type": "markdown",
   "metadata": {},
   "source": [
    "## Importing Libraries"
   ]
  },
  {
   "cell_type": "code",
   "execution_count": null,
   "metadata": {},
   "outputs": [],
   "source": [
    "import pyomo.environ as pyo\n",
    "import pandas as pd\n",
    "model = pyo.ConcreteModel()"
   ]
  },
  {
   "cell_type": "markdown",
   "metadata": {},
   "source": [
    "## Sets"
   ]
  },
  {
   "cell_type": "code",
   "execution_count": null,
   "metadata": {},
   "outputs": [],
   "source": [
    "model.T = pyo.RangeSet(12)\n",
    "model.T.pprint()"
   ]
  },
  {
   "cell_type": "code",
   "execution_count": null,
   "metadata": {},
   "outputs": [],
   "source": [
    "prod_list = pd.read_excel('APP Parameters.xlsx',sheet_name='Manufacture')['Product']\n",
    "model.P = pyo.Set(initialize=prod_list)\n",
    "model.P.pprint()"
   ]
  },
  {
   "cell_type": "markdown",
   "metadata": {},
   "source": [
    "## Parameters"
   ]
  },
  {
   "cell_type": "code",
   "execution_count": null,
   "metadata": {},
   "outputs": [],
   "source": [
    "# cost of Manufacturing\n",
    "cm_table = pd.read_excel('APP Parameters.xlsx',sheet_name='Manufacture', index_col=0)\n",
    "cm_table.iloc[:,0].to_dict()"
   ]
  },
  {
   "cell_type": "code",
   "execution_count": null,
   "metadata": {},
   "outputs": [],
   "source": [
    "model.manufacture_cost = pyo.Param(model.P, initialize = cm_table.iloc[:,0].to_dict())\n",
    "model.manufacture_cost.pprint()"
   ]
  },
  {
   "cell_type": "code",
   "execution_count": null,
   "metadata": {},
   "outputs": [],
   "source": [
    "# cost of Inventory\n",
    "ci_table = pd.read_excel('APP Parameters.xlsx',sheet_name='Inventory')\n",
    "ci_table = ci_table.set_index('Product')\n",
    "model.inventory_cost = pyo.Param(model.P, initialize = ci_table.iloc[:,0].to_dict())\n",
    "model.inventory_cost.pprint()"
   ]
  },
  {
   "cell_type": "code",
   "execution_count": null,
   "metadata": {},
   "outputs": [],
   "source": [
    "# cost of Backorders\n",
    "cb_table = pd.read_excel('APP Parameters.xlsx',sheet_name='Backorder')\n",
    "cb_table = cb_table.set_index(keys=[cb_table.columns[0]])\n",
    "model.backorder_cost= pyo.Param(model.P, initialize = cb_table.iloc[:,0].to_dict())\n",
    "model.backorder_cost.pprint()"
   ]
  },
  {
   "cell_type": "code",
   "execution_count": null,
   "metadata": {},
   "outputs": [],
   "source": [
    "# cost of Outsource\n",
    "cs_table = pd.read_excel('APP Parameters.xlsx',sheet_name='Outsource' ,index_col=0)\n",
    "model.outsource_cost= pyo.Param(model.P, initialize = cs_table.iloc[:,0].to_dict())\n",
    "model.outsource_cost.pprint()"
   ]
  },
  {
   "cell_type": "code",
   "execution_count": null,
   "metadata": {},
   "outputs": [],
   "source": [
    "# Initial Inventory\n",
    "I0_table = pd.read_excel('APP Parameters.xlsx',sheet_name='Initial_Inventory', index_col=0)\n",
    "model.initial_inv = pyo.Param(model.P, initialize = I0_table.iloc[:,0].to_dict())\n",
    "model.initial_inv.pprint()"
   ]
  },
  {
   "cell_type": "code",
   "execution_count": null,
   "metadata": {},
   "outputs": [],
   "source": [
    "# Initial Backorders\n",
    "B0_table = pd.read_excel('APP Parameters.xlsx',sheet_name='Initial_Backorder')\n",
    "B0_table = B0_table.set_index(keys=[B0_table.columns[0]])\n",
    "model.initial_back = pyo.Param(model.P, initialize = B0_table.iloc[:,0].to_dict())\n",
    "model.initial_back.pprint()"
   ]
  },
  {
   "cell_type": "code",
   "execution_count": null,
   "metadata": {},
   "outputs": [],
   "source": [
    "# production time\n",
    "l_table = pd.read_excel('APP Parameters.xlsx',sheet_name='Production_Time', index_col=0)\n",
    "model.production_time = pyo.Param(model.P, initialize = l_table.iloc[:,0].to_dict())\n",
    "model.production_time.pprint()"
   ]
  },
  {
   "cell_type": "code",
   "execution_count": null,
   "metadata": {},
   "outputs": [],
   "source": [
    "# Demands\n",
    "demand_table = pd.read_excel('APP Parameters.xlsx',sheet_name='Demand')\n",
    "demand_table = demand_table.set_index(keys=[demand_table.columns[0],\n",
    "                                            demand_table.columns[1]])\n",
    "demand_table"
   ]
  },
  {
   "cell_type": "code",
   "execution_count": null,
   "metadata": {},
   "outputs": [],
   "source": [
    "demand_table.iloc[:,0].to_dict()"
   ]
  },
  {
   "cell_type": "code",
   "execution_count": null,
   "metadata": {},
   "outputs": [],
   "source": [
    "model.demand = pyo.Param(model.P,  model.T, initialize = demand_table.iloc[:,0].to_dict())\n",
    "model.demand.pprint()"
   ]
  },
  {
   "cell_type": "code",
   "execution_count": null,
   "metadata": {},
   "outputs": [],
   "source": [
    "# workforce scalar parameters\n",
    "workforce_table = pd.read_excel('APP Parameters.xlsx',sheet_name='Workforce')\n",
    "CFire = workforce_table.loc[0,'firecost']\n",
    "CHire = workforce_table.loc[0,'hirecost']\n",
    "CReg = workforce_table.loc[0,'regularcost']\n",
    "COver = workforce_table.loc[0,'overtimecost']\n",
    "initial_workforce = workforce_table.loc[0,'initial workforce']\n",
    "max_Reg = workforce_table.loc[0,'maxregular']\n",
    "max_over = workforce_table.loc[0,'maxovertime']"
   ]
  }
 ],
 "metadata": {
  "kernelspec": {
   "display_name": "Python 3",
   "language": "python",
   "name": "python3"
  },
  "language_info": {
   "codemirror_mode": {
    "name": "ipython",
    "version": 3
   },
   "file_extension": ".py",
   "mimetype": "text/x-python",
   "name": "python",
   "nbconvert_exporter": "python",
   "pygments_lexer": "ipython3",
   "version": "3.12.0"
  }
 },
 "nbformat": 4,
 "nbformat_minor": 2
}
