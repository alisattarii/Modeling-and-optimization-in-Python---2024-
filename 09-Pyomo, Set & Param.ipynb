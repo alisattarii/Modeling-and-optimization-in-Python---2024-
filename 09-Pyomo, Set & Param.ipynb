{
 "cells": [
  {
   "cell_type": "markdown",
   "metadata": {},
   "source": [
    "\n",
    "<div dir=rtl>\n",
    "تعریف مجموعه ها و پارامتر ها\n",
    "    </div>"
   ]
  },
  {
   "cell_type": "markdown",
   "metadata": {},
   "source": [
    "# Set"
   ]
  },
  {
   "cell_type": "code",
   "execution_count": null,
   "metadata": {},
   "outputs": [],
   "source": [
    "from pyomo.environ import *\n",
    "model = ConcreteModel()"
   ]
  },
  {
   "cell_type": "code",
   "execution_count": null,
   "metadata": {},
   "outputs": [],
   "source": [
    "model.m = Set(initialize= (1,2,3)) \n",
    "model.m.pprint()"
   ]
  },
  {
   "cell_type": "code",
   "execution_count": null,
   "metadata": {},
   "outputs": [],
   "source": [
    "model.m = Set(initialize= [1,2,3])\n",
    "model.m.pprint()"
   ]
  },
  {
   "cell_type": "code",
   "execution_count": null,
   "metadata": {},
   "outputs": [],
   "source": [
    "print(type(model.m))"
   ]
  },
  {
   "cell_type": "code",
   "execution_count": null,
   "metadata": {},
   "outputs": [],
   "source": [
    "print(model.m[2])\n",
    "print(type(model.m[2]))"
   ]
  },
  {
   "cell_type": "code",
   "execution_count": null,
   "metadata": {},
   "outputs": [],
   "source": [
    "print(type(model.m.get(1)))\n",
    "print(type(model.m.get(4)))"
   ]
  },
  {
   "cell_type": "markdown",
   "metadata": {},
   "source": [
    "## **RangeSet مفهوم**"
   ]
  },
  {
   "cell_type": "code",
   "execution_count": null,
   "metadata": {},
   "outputs": [],
   "source": [
    "model.s1 = Set(initialize = range(6))\n",
    "model.s1.pprint()"
   ]
  },
  {
   "cell_type": "code",
   "execution_count": null,
   "metadata": {},
   "outputs": [],
   "source": [
    "model.s1.get(0)"
   ]
  },
  {
   "cell_type": "code",
   "execution_count": null,
   "metadata": {},
   "outputs": [],
   "source": [
    "model.s2 = Set(initialize = (1,2,3,4,5,6))\n",
    "model.s2.pprint()"
   ]
  },
  {
   "cell_type": "code",
   "execution_count": null,
   "metadata": {},
   "outputs": [],
   "source": [
    "model.s2.get(0)"
   ]
  },
  {
   "cell_type": "code",
   "execution_count": null,
   "metadata": {},
   "outputs": [],
   "source": [
    "model.s3 = RangeSet(6) # starts at 1\n",
    "model.s4 = RangeSet(0,5)"
   ]
  },
  {
   "cell_type": "code",
   "execution_count": null,
   "metadata": {},
   "outputs": [],
   "source": [
    "model.s3.pprint()\n",
    "model.s4.pprint()"
   ]
  },
  {
   "cell_type": "code",
   "execution_count": null,
   "metadata": {},
   "outputs": [],
   "source": [
    "model.s5 = RangeSet(0,6,2) # end index is included\n",
    "model.s5.pprint()"
   ]
  },
  {
   "cell_type": "code",
   "execution_count": null,
   "metadata": {},
   "outputs": [],
   "source": [
    "[i for i in model.s5]"
   ]
  },
  {
   "cell_type": "markdown",
   "metadata": {},
   "source": [
    "## Operations"
   ]
  },
  {
   "cell_type": "code",
   "execution_count": null,
   "metadata": {},
   "outputs": [],
   "source": [
    "(model.s1 & model.s2).pprint()"
   ]
  },
  {
   "cell_type": "code",
   "execution_count": null,
   "metadata": {},
   "outputs": [],
   "source": [
    "(model.s1 | model.s2).pprint()"
   ]
  },
  {
   "cell_type": "code",
   "execution_count": null,
   "metadata": {},
   "outputs": [],
   "source": [
    "(model.s1 - model.s2).pprint()"
   ]
  },
  {
   "cell_type": "code",
   "execution_count": null,
   "metadata": {},
   "outputs": [],
   "source": [
    "(model.s1 * model.s2).pprint()"
   ]
  },
  {
   "cell_type": "code",
   "execution_count": null,
   "metadata": {},
   "outputs": [],
   "source": [
    "model.origins = Set(initialize=('s1','s2','s3'))\n",
    "model.destinations = Set(initialize=('d1','d2','d3'))\n",
    "model.origins.pprint()\n",
    "model.destinations.pprint()"
   ]
  },
  {
   "cell_type": "code",
   "execution_count": null,
   "metadata": {},
   "outputs": [],
   "source": [
    "model.routes = model.origins * model.destinations\n",
    "model.routes.pprint()"
   ]
  },
  {
   "cell_type": "markdown",
   "metadata": {},
   "source": [
    "## Predefined Virtual Sets"
   ]
  },
  {
   "cell_type": "markdown",
   "metadata": {},
   "source": [
    "**Any** = all possible values.  \n",
    "**Reals** = floating point values.  \n",
    "**PositiveReals** = strictly positive floating point values.  \n",
    "**NonPositiveReals** = non-positive floating point values.  \n",
    "**NegativeReals** = strictly negative floating point values.  \n",
    "**NonNegativeReals** = non-negative floating point values.  \n",
    "**PercentFraction** = floating point values in the interval [0,1].  \n",
    "**Integers** = integer values.  \n",
    "**PositiveIntegers** = positive integer values.  \n",
    "**NonPositiveIntegers** = non-positive integer values.  \n",
    "**NegativeIntegers** = negative integer values.  \n",
    "**NonNegativeIntegers** = non-negative integer values.  \n",
    "**Boolean** = Boolean values, which can be represented as False/True, 0/1, ’False’/’True’ and ’F’/’T’.  \n",
    "**Binary** = the integers {0, 1}."
   ]
  },
  {
   "cell_type": "markdown",
   "metadata": {},
   "source": [
    "# Param"
   ]
  },
  {
   "cell_type": "markdown",
   "metadata": {},
   "source": [
    ": default راجع به دستور "
   ]
  },
  {
   "cell_type": "markdown",
   "metadata": {},
   "source": [
    "**اگر از این دستور در تعریف پارامتر های خود استفاده بکنید، در صورتی که مقادیر اولیه برای پارامتر ها در نظر نگرفته باشید، مقادیر دیفالت را قرار خواهد داد**"
   ]
  },
  {
   "cell_type": "code",
   "execution_count": null,
   "metadata": {},
   "outputs": [],
   "source": [
    "import pyomo.environ as pyo\n",
    "m = pyo.ConcreteModel()"
   ]
  },
  {
   "cell_type": "code",
   "execution_count": null,
   "metadata": {},
   "outputs": [],
   "source": [
    "m.a = pyo.Param([1,2] , default = 0 , initialize = {1:5,2:8})\n",
    "m.a.pprint()"
   ]
  },
  {
   "cell_type": "code",
   "execution_count": null,
   "metadata": {},
   "outputs": [],
   "source": [
    "m.b = pyo.Param([1,'p'] , default = 0 , initialize = {1:5,'p':8})\n",
    "m.b.pprint()"
   ]
  },
  {
   "cell_type": "code",
   "execution_count": null,
   "metadata": {},
   "outputs": [],
   "source": [
    "m.b[1] = 6\n",
    "m.b.pprint()"
   ]
  },
  {
   "cell_type": "code",
   "execution_count": null,
   "metadata": {},
   "outputs": [],
   "source": [
    "m.c = pyo.Param([1,'p'] , initialize = {1:5,'p':8} , mutable = True)\n",
    "m.c.pprint()"
   ]
  },
  {
   "cell_type": "code",
   "execution_count": null,
   "metadata": {},
   "outputs": [],
   "source": [
    "m.c['p'] = 10\n",
    "m.c.pprint()"
   ]
  },
  {
   "cell_type": "code",
   "execution_count": null,
   "metadata": {},
   "outputs": [],
   "source": [
    "m.d = pyo.Param([1,2] ,initialize = {1:5,2:-8} \n",
    "                      ,within= pyo.NonNegativeIntegers)\n",
    "m.d.pprint()"
   ]
  }
 ],
 "metadata": {
  "kernelspec": {
   "display_name": "Python 3",
   "language": "python",
   "name": "python3"
  },
  "language_info": {
   "codemirror_mode": {
    "name": "ipython",
    "version": 3
   },
   "file_extension": ".py",
   "mimetype": "text/x-python",
   "name": "python",
   "nbconvert_exporter": "python",
   "pygments_lexer": "ipython3",
   "version": "3.11.5"
  },
  "orig_nbformat": 4
 },
 "nbformat": 4,
 "nbformat_minor": 2
}
